{
 "cells": [
  {
   "cell_type": "code",
   "execution_count": 4,
   "metadata": {},
   "outputs": [
    {
     "name": "stdout",
     "output_type": "stream",
     "text": [
      "Ingrese la lista 34 67 89 15\n",
      "El máximo es 89\n"
     ]
    }
   ],
   "source": [
    "#Ejercicio 1\n",
    "\n",
    "#Supongamos que tenemos mas de 3 números o no sabemos cuantos números son. Escribir una función max_in_list() que tome una lista de números y devuelva el mas grande.\n",
    "\n",
    "def max_in_list(lista):\n",
    "    maximo=lista[0]\n",
    "    for i in lista:\n",
    "        if i>=maximo:\n",
    "            maximo=i\n",
    "    return maximo\n",
    "\n",
    "lista=[int(x) for x in input(\"Ingrese la lista \").split()]\n",
    "print(\"El máximo es \"+str(max_in_list(lista)))"
   ]
  },
  {
   "cell_type": "code",
   "execution_count": 7,
   "metadata": {},
   "outputs": [
    {
     "name": "stdout",
     "output_type": "stream",
     "text": [
      "Ingrese la lista Hugo Paco Luis\n",
      "['Hugo', 'Paco', 'Luis']\n",
      "La mas larga es Paco\n"
     ]
    }
   ],
   "source": [
    "#Ejercicio 2\n",
    "\n",
    "#Escribir una función mas_larga() que tome una lista de palabras y devuelva la mas larga.\n",
    "\n",
    "def mas_larga(lista):\n",
    "    maslarga=lista[1]\n",
    "    for i in lista:\n",
    "        if len(i)>len(maslarga):\n",
    "            maslarga=i\n",
    "    return maslarga\n",
    "\n",
    "lista=[x for x in input(\"Ingrese la lista \").split()]\n",
    "print(lista)\n",
    "print(\"La mas larga es \"+mas_larga(lista))"
   ]
  },
  {
   "cell_type": "code",
   "execution_count": null,
   "metadata": {},
   "outputs": [],
   "source": []
  },
  {
   "cell_type": "code",
   "execution_count": null,
   "metadata": {},
   "outputs": [],
   "source": []
  }
 ],
 "metadata": {
  "kernelspec": {
   "display_name": "Python 3",
   "language": "python",
   "name": "python3"
  },
  "language_info": {
   "codemirror_mode": {
    "name": "ipython",
    "version": 3
   },
   "file_extension": ".py",
   "mimetype": "text/x-python",
   "name": "python",
   "nbconvert_exporter": "python",
   "pygments_lexer": "ipython3",
   "version": "3.7.1"
  }
 },
 "nbformat": 4,
 "nbformat_minor": 2
}
