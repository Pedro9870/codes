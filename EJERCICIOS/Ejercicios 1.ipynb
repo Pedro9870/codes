{
 "cells": [
  {
   "cell_type": "code",
   "execution_count": null,
   "metadata": {
    "scrolled": true
   },
   "outputs": [],
   "source": [
    "#Ejercicio 1\n",
    "\n",
    "#Definir una función max() que tome como argumento dos números y devuelva el mayor de ellos.\n",
    "\n",
    "def max(num1,num2):\n",
    "    if num1>num2:\n",
    "        print(\"El número mayor es \"+str(num1))\n",
    "    elif num2>num1:\n",
    "        print(\"El número mayor es \"+str(num2))\n",
    "    else:\n",
    "        print(\"Los números son iguales\")\n",
    "\n",
    "num1=float(input(\"Ingrese el número 1: \"));num2=float(input(\"Ingrese el número 2: \"))\n",
    "max(num1,num2)"
   ]
  },
  {
   "cell_type": "code",
   "execution_count": null,
   "metadata": {},
   "outputs": [],
   "source": [
    "#Ejercicio 2\n",
    "\n",
    "#Definir una función max_de_tres(), que tome tres números como argumentos y devuelva el mayor de ellos. \n",
    "\n",
    "def max_de_tres(num1,num2,num3):\n",
    "    max=num1\n",
    "    if (num1==num2 and num1==num3):\n",
    "        print(\"Los número son iguales\")\n",
    "    else:\n",
    "        for i in (num1,num2,num3):\n",
    "            if i>=max:\n",
    "                max=i\n",
    "        print(\"El número mayor es \"+str(max))\n",
    "\n",
    "num1=float(input(\"Ingrese el número 1: \"));num2=float(input(\"Ingrese el número 2: \"));num3=float(input(\"Ingrese el número 3: \"))\n",
    "max_de_tres(num1,num2,num3)\n",
    "\n",
    "            "
   ]
  },
  {
   "cell_type": "code",
   "execution_count": null,
   "metadata": {},
   "outputs": [],
   "source": [
    "#Ejercicio 3\n",
    "\n",
    "#Definir una función que calcule la longitud de una lista o una cadena dada. \n",
    "\n",
    "def longitud(lista):\n",
    "    q=0\n",
    "    for i in lista:\n",
    "        q=q+1\n",
    "    return q\n",
    "lista=[]\n",
    "f=0\n",
    "while f != 1:\n",
    "    dato=input(\"Ingrese el dato o ingrese 'End'\")\n",
    "    if dato != \"End\":\n",
    "        lista.append(dato)\n",
    "    else:\n",
    "        f=1\n",
    "           \n",
    "print(\"La longitud de la lista es \"+str(longitud(lista)))\n",
    "    "
   ]
  },
  {
   "cell_type": "code",
   "execution_count": null,
   "metadata": {},
   "outputs": [],
   "source": [
    "#Ejercicio 4\n",
    "\n",
    "#Escribir una función que tome un carácter y devuelva True si es una vocal, de lo contrario devuelve False.\n",
    "\n",
    "def tipo(letra):\n",
    "    if letra==\"a\" or letra ==\"e\" or letra == \"i\" or letra == \"o\" or letra==\"u\":\n",
    "        return \"True\"\n",
    "    else:\n",
    "        return \"False\"\n",
    "\n",
    "letra=str(input(\"Ingrese la letra: \"))\n",
    "print(tipo(letra))"
   ]
  },
  {
   "cell_type": "code",
   "execution_count": null,
   "metadata": {},
   "outputs": [],
   "source": [
    "#Ejercicio 5\n",
    "\n",
    "#Escribir una funcion sum() y una función multip() que sumen y multipliquen respectivamente todos los números de una lista.\n",
    "\n",
    "def sum(lista):\n",
    "    suma=0\n",
    "    for i in lista:\n",
    "        suma=suma+i\n",
    "    return suma\n",
    "\n",
    "def multip(lista):\n",
    "    prod=1\n",
    "    for i in lista:\n",
    "        prod=prod*i\n",
    "    return prod\n",
    "\n",
    "lista=[]\n",
    "d=\"c\"\n",
    "\n",
    "while d != \"f\":\n",
    "    lista.append(float(input(\"Ingrese el siguiente número \")))\n",
    "    d=str(input(\"Ingrese 'c' para continuar o 'f' para finalizar\"))\n",
    "\n",
    "print(\"La suma es \"+str(sum(lista)));print(\"El producto es \"+str(multip(lista)))\n",
    "\n",
    "        "
   ]
  },
  {
   "cell_type": "code",
   "execution_count": null,
   "metadata": {},
   "outputs": [],
   "source": [
    "#Ejercicio 6\n",
    "\n",
    "#Definir una función inversa() que calcule la inversión de una cadena. Por ejemplo la cadena \"estoy probando\" debería devolver la cadena \"odnaborp yotse\"\n",
    "\n",
    "def inversa(cadena):\n",
    "    n=len(cadena)\n",
    "    invertida=\"\"\n",
    "    for i in range(1,n+1):\n",
    "        invertida+=cadena[n-i]\n",
    "    return invertida\n",
    "\n",
    "cadena=input(\"Ingrese la cadena\")\n",
    "\n",
    "print(inversa(cadena))\n",
    "\n",
    "#Ejercicio 7\n",
    "\n",
    "#Definir una función es_palindromo() que reconoce palíndromos (es decir, palabras que tienen el mismo aspecto escritas invertidas), ejemplo: es_palindromo (\"radar\") tendría que devolver True.\n",
    "if inversa(cadena)==cadena:\n",
    "    print(\"True\")\n",
    "else:\n",
    "    print(\"False\")\n",
    "    "
   ]
  },
  {
   "cell_type": "code",
   "execution_count": 3,
   "metadata": {},
   "outputs": [
    {
     "name": "stdout",
     "output_type": "stream",
     "text": [
      "True\n"
     ]
    }
   ],
   "source": [
    "#Ejercicio 8\n",
    "\n",
    "#Definir una función superposicion() que tome dos listas y devuelva True si tienen al menos 1 miembro en común o devuelva False de lo contrario. Escribir la función usando el bucle for anidado.\n",
    "\n",
    "def superposicion(lista1,lista2):\n",
    "    d=False\n",
    "    for i in lista1:\n",
    "        for j in lista2:\n",
    "            if i==j:\n",
    "                d=True\n",
    "    return d\n",
    "lista1=[1,2,3];lista2=[4,5,3]\n",
    "print(superposicion(lista1,lista2))"
   ]
  },
  {
   "cell_type": "code",
   "execution_count": 8,
   "metadata": {},
   "outputs": [
    {
     "name": "stdout",
     "output_type": "stream",
     "text": [
      "Ingrese el caracter: a\n",
      "Ingrese n: 5\n",
      "aaaaa\n"
     ]
    }
   ],
   "source": [
    "#Ejercicio 9\n",
    "\n",
    "#Definir una función generar_n_caracteres() que tome un entero n y devuelva el caracter multiplicado por n. Por ejemplo: generar_n_caracteres(5, \"x\") debería devolver \"xxxxx\".\n",
    "\n",
    "def generar_n_caracteres(caracter,n):\n",
    "    elemento=caracter\n",
    "    for i in range(n-1):\n",
    "        caracter+=elemento\n",
    "    return caracter\n",
    "\n",
    "caracter=input(\"Ingrese el caracter: \");n=int(input(\"Ingrese n: \"))\n",
    "print(generar_n_caracteres(caracter,n))"
   ]
  }
 ],
 "metadata": {
  "kernelspec": {
   "display_name": "Python 3",
   "language": "python",
   "name": "python3"
  },
  "language_info": {
   "codemirror_mode": {
    "name": "ipython",
    "version": 3
   },
   "file_extension": ".py",
   "mimetype": "text/x-python",
   "name": "python",
   "nbconvert_exporter": "python",
   "pygments_lexer": "ipython3",
   "version": "3.7.1"
  }
 },
 "nbformat": 4,
 "nbformat_minor": 2
}
